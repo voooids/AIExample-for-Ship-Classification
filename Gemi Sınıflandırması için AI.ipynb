{
 "cells": [
  {
   "cell_type": "markdown",
   "id": "d30269e0",
   "metadata": {},
   "source": [
    "# 1. Giriş.\n",
    "\n",
    "Bu Jupyter Notebook görevi için, büyük ölçekli görüntü tanıma için kullanılan bir konvolüsyonel sinir ağı (CNN) ile Sentinel-1 ve OpenSAR gemi veri kümelerini kullanarak gemi sınıflandırmasını tamamlayacağız.\n",
    "\n",
    "Uydu görüntülerinden gemi tespiti ve sınıflandırması, deniz gözetimi için yararlıdır, böylece hükümetler deniz alanlarında ne tür gemiler olduğunu ve bu gemilerin ne yaptıklarını - balıkçılık, sondaj ve keşiften kargo taşımacılığı ve turizme kadar alandaki faliyetleri takip edebilirler. Gemilerin tespiti güvenlik, emniyet, ekonomi veya çevre üzerindeki etkilerini takip etmek için son derece kullanışlı ve önemli bir görevdir.\n",
    "\n",
    "Bu notebook'da Sentinel-1 verilerinden çıkarılan gemileri sınıflandırmak için evrişimsel sinir ağı (CNN) geliştireceğiz . Bir VGG16 Evrişimsel Sinir Ağı modeli, uygulanabilir ve uyarlanabilir gemi yorumlama algoritmaları geliştirmek için bir kıyaslama veriseti olan OpenSARShip veri seti yardımıyla eğitilecektir.  \n",
    "\n",
    "Yapacağımız model aşağıda belirtilen üç gemi sınıfından biri olarak etiketlenmiş 2805 Sentinel 1 görüntüsünü kullanarak yapılacaktır. Bu üç gemi sınıfı şunlardır:\n",
    "\n",
    "* Bulk Carrier / Toplu Taşıyıcı\n",
    "* Container Ship / Konteyner Gemisi\n",
    "* Tanker \n",
    "\n",
    "# 2. Makine Öğrenmesi Algoritması \n",
    "\n",
    "İş akışı, bir görüntüdeki özellikleri sınıflandırmak ve algılamak için kullanılan bir Derin Öğrenme algoritması olan bir VGG16 Evrişimli Sinir Ağı (ConvNet / CNN) modeli geliştirir ve eğitir. Model, Oxford Üniversitesi'nden K. Simonyan ve A. Zisserman tarafından 'Büyük Ölçekli Görüntü Tanıma için Derin Evrişimsel Ağlar' makalesinde önerildi. Daha basit evrişimli sinir ağlarından biridir ve yalnızca temel evrişimleri ve havuzlama işlemlerini kullanır, artık bağlantılar gibi ağ bilgilerini kullanmaz. '16' sayısı ağın katman derinliğini ifade eder.\n",
    "\n",
    "**VGG16'nın Temel Özellikleri:**\n",
    "\n",
    "* Aynı zamanda Oxford'dan Visual Geometry Group'un adını taşıyan OxfordNet modeli olarak da adlandırılır.\n",
    "* 16 sayısı, bazı ağırlıklara sahip toplam 16 katmana sahip olduğu gerçeğini ifade eder.\n",
    "* Evrişim için her zaman 3x3 çekirdek kullanır\n",
    "\n",
    "# 3. Veriler\n",
    "\n",
    "Veri dosyası **128x128 piksel boyutunda 2805 resim** içerir. Her görüntü, VV-polarizasyonlu bir *Sentinel-1* görüntüsünden çıkarılan bir gemiden oluşur ve her geminin, görüntüdeki geminin *0 - Bulk Carrier, 1 - Konteyner Gemisi veya 2 - Tanker* olduğunu gösteren ilişkili bir gemi sınıfı etiketi vardır. Tanker.\n",
    "\n",
    "*Öyleyse şimdi kütüphanelerimizi ekleyerek işe koyulalım..*"
   ]
  },
  {
   "cell_type": "code",
   "execution_count": 1,
   "id": "448b9e39",
   "metadata": {},
   "outputs": [],
   "source": [
    "# 1. Kütüphanelerimizi Ekleyelim..\n",
    "import tensorflow as tf\n",
    "from tensorflow.keras.applications import VGG16\n",
    "from tensorflow.keras.utils import plot_model\n",
    "from tensorflow.keras.models import load_model\n",
    "import numpy as np\n",
    "from sklearn.model_selection import train_test_split\n",
    "import os\n",
    "import matplotlib.pyplot as plt"
   ]
  },
  {
   "cell_type": "markdown",
   "id": "ad1da00b",
   "metadata": {},
   "source": [
    "### Eğitim Verilerini İnceleyelim..\n",
    "İlk adım olarak modeli eğitmek için kullanılan girdi verilerini daha iyi anlamak için etiketli eğitim verileriyle veri dosyasını açmaktır. Etiketli diyorum çünkü kullandığımız veri etiketli bir veridir. Kullanacağımız verinin formatı **.npz**dir. **.npz ve .npy** dosyalarında depolanan dizileri açan **numpy.load()** işleviyle açılabilir. Bu işlev bir **NpzFile** nesnesi döndürür. **.files() işleviyle .npz** dosyasının parçası olan dosyalara genel bir bakiş görebiliriz."
   ]
  },
  {
   "cell_type": "code",
   "execution_count": 3,
   "id": "89077499",
   "metadata": {},
   "outputs": [
    {
     "data": {
      "text/plain": [
       "['image', 'label']"
      ]
     },
     "execution_count": 3,
     "metadata": {},
     "output_type": "execute_result"
    }
   ],
   "source": [
    "# 2. Verimizi Yükleyelim.. \n",
    "data = np.load('C:\\\\Users\\\\ernsb\\\\Desktop\\\\AIFOR\\\\okyanusVerisi\\\\okyanusVerisi.npz')\n",
    "files = data.files\n",
    "files"
   ]
  },
  {
   "cell_type": "markdown",
   "id": "d34ef2ee",
   "metadata": {},
   "source": [
    "Yukarıda kodun çıktısı **image, label** . Bu da veri setimizin resim ve etiketlerden oluştuğunu ifade ediyor..\n",
    "\n",
    "Bir sonraki adımda, iki öğenin şeklini inceleyeceğiz. "
   ]
  },
  {
   "cell_type": "code",
   "execution_count": 4,
   "id": "8215c3fe",
   "metadata": {},
   "outputs": [
    {
     "name": "stdout",
     "output_type": "stream",
     "text": [
      "Shape - \"Image\" item: (2805, 128, 128)\n",
      "Shape - \"Label\" item: (2805,)\n"
     ]
    }
   ],
   "source": [
    "# 3. Öğelerin Şeklini İnceleyelim..\n",
    "print('Shape - \"Image\" item: ' + str(data['image'].shape))\n",
    "print('Shape - \"Label\" item: ' + str(data['label'].shape))"
   ]
  },
  {
   "cell_type": "markdown",
   "id": "12012b62",
   "metadata": {},
   "source": [
    "Ayrıca **plt.imshow()** işleviyle bir görüntüyü görselleştirebilir ve etiket öğesinden ilişkili gemi sınıfını yazdırabiliriz. Rastgele bir **index** numarası belirleyip bu index numarasını görselleştirebiliriz.. "
   ]
  },
  {
   "cell_type": "code",
   "execution_count": 9,
   "id": "96170581",
   "metadata": {},
   "outputs": [
    {
     "name": "stdout",
     "output_type": "stream",
     "text": [
      "Ship class: 2\n"
     ]
    },
    {
     "data": {
      "image/png": "[encoded data removed]",
      "text/plain": [
       "<Figure size 432x288 with 1 Axes>"
      ]
     },
     "metadata": {
      "needs_background": "light"
     },
     "output_type": "display_data"
    }
   ],
   "source": [
    "# 4. Rastgele Bir İndex Belirleyip Görselleştirelim..\n",
    "index = 2000\n",
    "plt.imshow(data['image'][index,:,:])\n",
    "print('Ship class: ' + str(data['label'][index]))"
   ]
  },
  {
   "cell_type": "markdown",
   "id": "f2ba13e9",
   "metadata": {},
   "source": [
    "Etiketlenmiş eğitim verilerini incelemenin son adımında, \"image\" öğesini girdi (\"X\") ve \"label\" öğesini çıktı ('y') değişkenleri olarak tanımlayabilirsiniz."
   ]
  },
  {
   "cell_type": "code",
   "execution_count": 10,
   "id": "1e87764d",
   "metadata": {},
   "outputs": [],
   "source": [
    "# 5. Verileri Girdi-Çıktı Şeklinde Ayarlayalim..\n",
    "X = data['image']\n",
    "y = data['label']"
   ]
  },
  {
   "cell_type": "markdown",
   "id": "6c9d5a40",
   "metadata": {},
   "source": [
    "### VGG16 Modeliyle İlgili İşlemler..\n",
    "\n",
    "Burada yapacağımız adım, ağ için bir giriş noktası olarak kullanılan bir Keras Tensörünü başlatmaktır. Python'un Tensorflow Keras API **tf.keras'ından Layer.Input** sınıfını kullanabiliriz. Tanımlayacağımız bu tensörün boyutu modeli eğitmek için kullanılan görüntülerin boyutlarıyla ilgilidir. "
   ]
  },
  {
   "cell_type": "code",
   "execution_count": 11,
   "id": "8d70fe1d",
   "metadata": {},
   "outputs": [
    {
     "data": {
      "text/plain": [
       "<tf.Tensor 'input_1:0' shape=(None, 128, 128, 1) dtype=float32>"
      ]
     },
     "execution_count": 11,
     "metadata": {},
     "output_type": "execute_result"
    }
   ],
   "source": [
    "# 6. Resimlere Göre Şekillendirme.\n",
    "inputs = tf.keras.layers.Input(shape=(128, 128, 1))\n",
    "inputs"
   ]
  },
  {
   "cell_type": "markdown",
   "id": "e79063b4",
   "metadata": {},
   "source": [
    "Artık VGG16 modelini somutlaştırabiliriz. Tensorflow Keras API, **tensorflow.keras.applications altında** önceden eğitilmiş ağırlıklara sahip bir dizi model (hazır mimariler) sunar ve VGG16 bunlardan biridir. Aşağıdaki anahtar sözcük bağımsız değişkenleriyle bir VGG16 modelini başlatabilirsiniz:\n",
    "\n",
    "* **include_top =**False : Ağın tepesine tam olarak bağlı üç katmanı dahil etmek istemiyoruz diyoruz bu kodla.\n",
    "* **weights=None** : Agırlıkları yok olarak ayarlayarak rastgele başlatmayı seçiyoruz.\n",
    "* **input_tensor=inputs** : Giriş tensörü, önceki adımda oluşturulan giriş tensörüdür.\n",
    "* **pooling='avg'** : Son evrişim bloğunun çıktısına genel ortalama havuzlama uygulanacaktır ve bu, modelin çıktısının iki boyutlu bir tensör olacağı anlamına gelir.\n",
    "\n",
    "**NOT!..**\n",
    "\n",
    "**Fully Connected Layers** : Varsayılan olarak algoritma üstte tam olarak bağlı üç katman içerecektir. \n",
    "\n",
    "**Pooling** : Havuzlama, CNN'lerde çok yaygın bir işlemdir ve muhtemelen en cok tartısılan da işlemdir. Havuzlama, kare bir bilgi bloğunun yalnızca min, maks veya ortalamasını alarak bilgileri azaltır / yoğunlaştırır.\n",
    "\n",
    "Şimdi aşağıda VGG16 Modeliyle alakali bir kod yazalim..."
   ]
  },
  {
   "cell_type": "code",
   "execution_count": 12,
   "id": "e055f3d3",
   "metadata": {},
   "outputs": [
    {
     "data": {
      "text/plain": [
       "<tensorflow.python.keras.engine.functional.Functional at 0x20f0051db80>"
      ]
     },
     "execution_count": 12,
     "metadata": {},
     "output_type": "execute_result"
    }
   ],
   "source": [
    "# 7. VGG16 Kuruyoruz..\n",
    "vgg = VGG16(include_top=False,\n",
    "            weights=None,\n",
    "            input_tensor=inputs,\n",
    "            pooling='avg')\n",
    "\n",
    "vgg"
   ]
  },
  {
   "cell_type": "markdown",
   "id": "55acc8b3",
   "metadata": {},
   "source": [
    "Örneklenmiş vgg modelimizden, girdi katmanı nesnesini fonksiyon girdisi ile alabiliriz. Ortaya çıkan nesne, modelin giriş tensörlerinden oluşan bir tensördür."
   ]
  },
  {
   "cell_type": "code",
   "execution_count": 13,
   "id": "fe731907",
   "metadata": {},
   "outputs": [
    {
     "data": {
      "text/plain": [
       "<tf.Tensor 'input_1:0' shape=(None, 128, 128, 1) dtype=float32>"
      ]
     },
     "execution_count": 13,
     "metadata": {},
     "output_type": "execute_result"
    }
   ],
   "source": [
    "# 8. Fonksiyon alma İşlemi..\n",
    "inp = vgg.input\n",
    "inp"
   ]
  },
  {
   "cell_type": "markdown",
   "id": "98173f22",
   "metadata": {},
   "source": [
    "Bir sonraki adımda, **VGG16 mimarisine benzemek için ağın tepesine tam bağlantılı üç katman ekliyoruz.** Prosedür, üç yoğun katman tanımlamak ve aralarına dropout/bırakma  katmanları eklemektir. Dropout/bırakma katmanları, düzenleme amacıyla ve fazla öğrenmeyi önlemek için tanıtılır. Prosedür bir yığınlama işlemine benzer - bu, önce yoğun bir katman, ardından bir dropout/bırakma  katmanı ve ardından yoğun bir katman oluşturacağınız anlamına gelir.\n",
    "\n",
    "*tf.keras.layers.Dense() işleviyle yoğun bir katman ve tf.keras.layers.Dropout() işleviyle bir bırakma katmanı oluşturabiliriz.*"
   ]
  },
  {
   "cell_type": "code",
   "execution_count": 14,
   "id": "230482fe",
   "metadata": {},
   "outputs": [
    {
     "data": {
      "text/plain": [
       "<tf.Tensor 'dense_2/Softmax:0' shape=(None, 3) dtype=float32>"
      ]
     },
     "execution_count": 14,
     "metadata": {},
     "output_type": "execute_result"
    }
   ],
   "source": [
    "# 9 Katmanları Oluşturalim..\n",
    "\n",
    "dense1 = tf.keras.layers.Dense(512, activation='relu')(vgg.output)\n",
    "dropout1 = tf.keras.layers.Dropout(0.5)(dense1)\n",
    "\n",
    "dense2 = tf.keras.layers.Dense(128, activation='relu')(dropout1)\n",
    "dropout2 = tf.keras.layers.Dropout(0.5)(dense2)\n",
    "\n",
    "pred = tf.keras.layers.Dense(3, activation='softmax')(dropout2)\n",
    "pred"
   ]
  },
  {
   "cell_type": "markdown",
   "id": "1d64b409",
   "metadata": {},
   "source": [
    "Yukarıda ki kodun yorumlanması..\n",
    "\n",
    "* **dense1 :** vgg modelinin çıktısı'nın üzerine 512 nöronlu bir yoğun katman olusturduk ve **activation** işlevi olarak Relu kullanılmıştır. \n",
    "\n",
    "\n",
    "* **dropout1 :** Dense1 yoğun katmanının üstüne 512,128 (128 resim boyutundan geliyor.) baglantılarının yarınısı (0.5) rastgele atlayan bir bırakma katmanı ekliyoruz. \n",
    "\n",
    "\n",
    "* **dense2 :** Bırakma katmanı 'dropout1' üzerine 128 nöronlu başka bir 'yoğun katman' oluşturuyoruz ve aktivasyon işlevi olarak yeniden 'relu' (Rektifiye Edilmiş Doğrusal Birim) kullanıyoruz.\n",
    "\n",
    "* **dropout2 :** Dense2 yogun katmanının üstüne bağlantılarının yarısını rastgele atlayan bir bırakma katmanı ekliyoruz.\n",
    "\n",
    "* **pred :** Dropout2 bırakma katmanı üzerine 3 nöronlu son yogun katmanı olusturduk ve softmax etkinleştirme işlevini kullandık. Son nöron sayısı bildigimiz gibi tahmin edilecek sınıfların sayısını ifade etmektedir."
   ]
  },
  {
   "cell_type": "markdown",
   "id": "e16b9fa5",
   "metadata": {},
   "source": [
    "### Girdi ve Çıktıdan Keras Modeli Örneği Oluşturma\n",
    "\n",
    "Yukarıdaki işlemlerle birlikte VGG16 modelimizi somutlaştırdık ve üstüne tam olarak bağlı üç katman olusturduk. Bunlar *dense1, dense2 ve pred katmanları.* Şimdi **tf.keras.Model()** içine **inp, pred** parametrelerini vererek modelimizi oluşturalim. Peki buradaki **inp ve pred** parametreleri nelerdir? \n",
    "\n",
    "* **inp :** Fonksiyon olarak işlemleri aldığımız yer. \n",
    "* **pred :**  Oluşturulan tahmin katmanı..\n",
    "\n",
    "Yapacağımız bu işlev, katmanları eğitim ve çıktı özellikleriyle bir nesnede gruplandırır. Sonuç bir sonraki adımda eğitim için yapılandırabileceğimiz eğitimsiz bir sinir ağı olacaktır. "
   ]
  },
  {
   "cell_type": "code",
   "execution_count": 16,
   "id": "d9806e80",
   "metadata": {},
   "outputs": [
    {
     "name": "stdout",
     "output_type": "stream",
     "text": [
      "Model: \"functional_3\"\n",
      "_________________________________________________________________\n",
      "Layer (type)                 Output Shape              Param #   \n",
      "=================================================================\n",
      "input_1 (InputLayer)         [(None, 128, 128, 1)]     0         \n",
      "_________________________________________________________________\n",
      "block1_conv1 (Conv2D)        (None, 128, 128, 64)      640       \n",
      "_________________________________________________________________\n",
      "block1_conv2 (Conv2D)        (None, 128, 128, 64)      36928     \n",
      "_________________________________________________________________\n",
      "block1_pool (MaxPooling2D)   (None, 64, 64, 64)        0         \n",
      "_________________________________________________________________\n",
      "block2_conv1 (Conv2D)        (None, 64, 64, 128)       73856     \n",
      "_________________________________________________________________\n",
      "block2_conv2 (Conv2D)        (None, 64, 64, 128)       147584    \n",
      "_________________________________________________________________\n",
      "block2_pool (MaxPooling2D)   (None, 32, 32, 128)       0         \n",
      "_________________________________________________________________\n",
      "block3_conv1 (Conv2D)        (None, 32, 32, 256)       295168    \n",
      "_________________________________________________________________\n",
      "block3_conv2 (Conv2D)        (None, 32, 32, 256)       590080    \n",
      "_________________________________________________________________\n",
      "block3_conv3 (Conv2D)        (None, 32, 32, 256)       590080    \n",
      "_________________________________________________________________\n",
      "block3_pool (MaxPooling2D)   (None, 16, 16, 256)       0         \n",
      "_________________________________________________________________\n",
      "block4_conv1 (Conv2D)        (None, 16, 16, 512)       1180160   \n",
      "_________________________________________________________________\n",
      "block4_conv2 (Conv2D)        (None, 16, 16, 512)       2359808   \n",
      "_________________________________________________________________\n",
      "block4_conv3 (Conv2D)        (None, 16, 16, 512)       2359808   \n",
      "_________________________________________________________________\n",
      "block4_pool (MaxPooling2D)   (None, 8, 8, 512)         0         \n",
      "_________________________________________________________________\n",
      "block5_conv1 (Conv2D)        (None, 8, 8, 512)         2359808   \n",
      "_________________________________________________________________\n",
      "block5_conv2 (Conv2D)        (None, 8, 8, 512)         2359808   \n",
      "_________________________________________________________________\n",
      "block5_conv3 (Conv2D)        (None, 8, 8, 512)         2359808   \n",
      "_________________________________________________________________\n",
      "block5_pool (MaxPooling2D)   (None, 4, 4, 512)         0         \n",
      "_________________________________________________________________\n",
      "global_average_pooling2d (Gl (None, 512)               0         \n",
      "_________________________________________________________________\n",
      "dense (Dense)                (None, 512)               262656    \n",
      "_________________________________________________________________\n",
      "dropout (Dropout)            (None, 512)               0         \n",
      "_________________________________________________________________\n",
      "dense_1 (Dense)              (None, 128)               65664     \n",
      "_________________________________________________________________\n",
      "dropout_1 (Dropout)          (None, 128)               0         \n",
      "_________________________________________________________________\n",
      "dense_2 (Dense)              (None, 3)                 387       \n",
      "=================================================================\n",
      "Total params: 15,042,243\n",
      "Trainable params: 15,042,243\n",
      "Non-trainable params: 0\n",
      "_________________________________________________________________\n"
     ]
    }
   ],
   "source": [
    "# 10 Model Oluşturalim..\n",
    "model = tf.keras.Model(inp, pred)\n",
    "\n",
    "# 11. Model Özetini Görmek İstersek..\n",
    "model.summary()"
   ]
  },
  {
   "cell_type": "markdown",
   "id": "95e404f6",
   "metadata": {},
   "source": [
    "### Eğitim için Keras Modelini Yapılandırma \n",
    "\n",
    "Bu adımda eğitimsiz sinir ağı modelimizi yapılandırmaktır. Bunu yaparken **model.compile()** işleviyle modelimize çeşitli parametreler verebiliriz. Bu parametreler **loss, optimizers ve metrics** gibi parametrelerdir. "
   ]
  },
  {
   "cell_type": "code",
   "execution_count": 17,
   "id": "b2ac06b4",
   "metadata": {},
   "outputs": [
    {
     "data": {
      "text/plain": [
       "<tensorflow.python.keras.engine.functional.Functional at 0x20f0052cf10>"
      ]
     },
     "execution_count": 17,
     "metadata": {},
     "output_type": "execute_result"
    }
   ],
   "source": [
    "# 12 Modeli Yapılandırma İşlemlerini Yapalim..\n",
    "opt = tf.keras.optimizers.SGD(learning_rate=0.001, momentum=0.9, nesterov=True, name='SGD')\n",
    "model.compile(optimizer=opt,\n",
    "              loss=tf.keras.losses.categorical_crossentropy,\n",
    "              metrics=['accuracy'])\n",
    "\n",
    "model"
   ]
  },
  {
   "cell_type": "markdown",
   "id": "bc8e5a31",
   "metadata": {},
   "source": [
    "### Verilerden Eğitim ve Test Alt Kümelerini Oluşturma"
   ]
  },
  {
   "cell_type": "code",
   "execution_count": 18,
   "id": "62331d70",
   "metadata": {},
   "outputs": [],
   "source": [
    "# 13\n",
    "X_train, X_test, y_train, y_test = train_test_split(X, y,\n",
    "                                                    test_size=0.25,\n",
    "                                                    random_state=42)"
   ]
  },
  {
   "cell_type": "markdown",
   "id": "f5f1d5e8",
   "metadata": {},
   "source": [
    "Şimdi oluşturduğumuz eğitim ve test verisinin boyutlarını kontrol edelim. Test verisinin boyutunu 0.25 yapmamız toplam elemanın (n=2805) 0.25'i dir. Yani bu örnekte, 701.25 gibi bir sayı olmali. Bunu bilgisayar bir üst sayıya veya bir alt sayıya yuvarlayabilir. "
   ]
  },
  {
   "cell_type": "code",
   "execution_count": 19,
   "id": "2cdd67b0",
   "metadata": {},
   "outputs": [
    {
     "name": "stdout",
     "output_type": "stream",
     "text": [
      "X_train'in Boyutu...: (2103, 128, 128)\n",
      "X_test'in Boyutu...: (702, 128, 128)\n"
     ]
    }
   ],
   "source": [
    "# 14 Boyutlarını Öğrenelim.. \n",
    "print(\"X_train'in Boyutu...:\",X_train.shape)\n",
    "print(\"X_test'in Boyutu...:\",X_test.shape)"
   ]
  },
  {
   "cell_type": "markdown",
   "id": "1c37f661",
   "metadata": {},
   "source": [
    "### Etiketlerin One-Hot Encoder İşlemi.. \n",
    "\n",
    "One-Hot Encoder, Makine Öğrenimi için kategorik özellikleri ön işlemenin yaygın bir yoludur. Etiketler özelliklere göre 0,1,2,.. diye rakamlar alarak sınıf numaraları temsil edilir. Verimizde yer alan gemi türlerini **tf.keras.utils.to_categorical()** işleviyle gemi sınıflarını temsile dönüştürebiliriz. Burada sırasıyla y_train ve y_test alt kümesi için etiketleri dönüştürmemiz gerekecek."
   ]
  },
  {
   "cell_type": "code",
   "execution_count": 22,
   "id": "3af09ba4",
   "metadata": {},
   "outputs": [],
   "source": [
    "# 15.. \n",
    "y_train = tf.keras.utils.to_categorical(y_train, num_classes=3)\n",
    "y_test = tf.keras.utils.to_categorical(y_test, num_classes=3)"
   ]
  },
  {
   "cell_type": "markdown",
   "id": "e524f247",
   "metadata": {},
   "source": [
    "### İsteğe Bağlı Aşama!.\n",
    "\n",
    "Modeli eğitmeden önce gerekli callbacks tanımlamak en iyisidir. Eğitim sürecinin çeşitli aşamalarını analiz edebilmek için **model.fit()** gibi Keras yöntemlerine callbacks eklenebilir.\n",
    "\n",
    "Bu aşamada işlemler yapabilmek için öncelikle modelimizi kayıt edelim.."
   ]
  },
  {
   "cell_type": "code",
   "execution_count": 28,
   "id": "ab330520",
   "metadata": {},
   "outputs": [],
   "source": [
    "# 16 Modeli Kayıt Etmek İstersek; \n",
    "model.save('C:\\\\Users\\\\ernsb\\\\Desktop\\\\AIFOR\\\\okyanusVerisi\\\\vgg.h5')"
   ]
  },
  {
   "cell_type": "code",
   "execution_count": 29,
   "id": "9a9b974a",
   "metadata": {},
   "outputs": [],
   "source": [
    "# 17. CallBacks Tanımlama İşlemi..\n",
    "check = tf.keras.callbacks.ModelCheckpoint('C:\\\\Users\\\\ernsb\\\\Desktop\\\\AIFOR\\\\okyanusVerisi\\\\vgg.h5',\n",
    "                                           monitor='val_accuracy',\n",
    "                                           verbose=0,\n",
    "                                           save_best_only=True, mode='auto')"
   ]
  },
  {
   "cell_type": "markdown",
   "id": "9e0c9942",
   "metadata": {},
   "source": [
    "Şimdi her dönemin sonuçlarını tf.keras.callbacks.CSVLogger() ile bir csv dosyasına kaydeden bir callbacks tanımlayalim.."
   ]
  },
  {
   "cell_type": "code",
   "execution_count": 34,
   "id": "231c7785",
   "metadata": {},
   "outputs": [
    {
     "data": {
      "text/plain": [
       "<tensorflow.python.keras.callbacks.CSVLogger at 0x20f005da8e0>"
      ]
     },
     "execution_count": 34,
     "metadata": {},
     "output_type": "execute_result"
    }
   ],
   "source": [
    "# 18..\n",
    "log = tf.keras.callbacks.CSVLogger('C:\\\\Users\\\\ernsb\\\\Desktop\\\\AIFOR\\\\okyanusVerisi\\\\vgg.txt')"
   ]
  },
  {
   "cell_type": "code",
   "execution_count": 35,
   "id": "374f5e85",
   "metadata": {},
   "outputs": [
    {
     "name": "stdout",
     "output_type": "stream",
     "text": [
      "cpu: 8 found\n",
      "Epoch 1/2\n",
      "25/25 [==============================] - 85s 3s/step - loss: 1.0957 - accuracy: 0.4367 - val_loss: 1.0947 - val_accuracy: 0.4017\n",
      "Epoch 2/2\n",
      "25/25 [==============================] - 102s 4s/step - loss: 1.0878 - accuracy: 0.4333 - val_loss: 1.0903 - val_accuracy: 0.4017\n",
      "Elapsed time: 193.5309230999992\n"
     ]
    }
   ],
   "source": [
    "# 19 Modeli Artık Oluşturalim.\n",
    "\n",
    "import multiprocessing\n",
    "from timeit import default_timer as timer\n",
    "\n",
    "start = timer()\n",
    "cpu_count = multiprocessing.cpu_count()\n",
    "print(f\"cpu: {cpu_count} found\")\n",
    "\n",
    "model.fit(X_train, y_train,\n",
    "          batch_size=12,\n",
    "          epochs=2,\n",
    "#          epochs=150,\n",
    "          verbose=1,\n",
    "          validation_data=(X_test, y_test),\n",
    "          steps_per_epoch = 25,\n",
    "          max_queue_size=10,\n",
    "          workers=cpu_count,\n",
    "          use_multiprocessing=cpu_count > 1,\n",
    "          callbacks=[check, log])\n",
    "\n",
    "end = timer()\n",
    "print('Elapsed time: ' + str(end - start))"
   ]
  },
  {
   "cell_type": "code",
   "execution_count": 36,
   "id": "de6e7715",
   "metadata": {},
   "outputs": [
    {
     "name": "stdout",
     "output_type": "stream",
     "text": [
      "22/22 [==============================] - 30s 1s/step - loss: 1.0903 - accuracy: 0.4017\n",
      "Test_acc: 0.4017\n"
     ]
    }
   ],
   "source": [
    "# 20 Eğitilmiş Modeli Yüklemek ve Değerlendirmek\n",
    "# Modeli Yüklemek İstersek..\n",
    "\n",
    "# model = load_model('Modelin Adresini Yaz Buraya..')\n",
    "\n",
    "_, test_acc = model.evaluate(X_test, y_test)\n",
    "\n",
    "print('Test_acc: %.4f' % test_acc)"
   ]
  },
  {
   "cell_type": "markdown",
   "id": "b4efc9d6",
   "metadata": {},
   "source": [
    "Şimdi bu adımda eğitilmiş modelin yardımıyla bir gemi sınıfını tahmin etmek için **model.predict()** fonksiyonunu uygulayacağız. İşleve, test veri kümesinden ('X_test') bir girdi dizisi sağlarsak sonuç, her gemi sınıfı için olasılığı gösteren bir olasılık vektörüdür. En yüksek olasılık tahmin edilen sınıftır. Eğitilmiş modelin sağlamlığını daha iyi hissetmek için dizini değiştirmekten çekinmeyin.\n",
    "\n",
    "Öyleyse başlayalim.."
   ]
  },
  {
   "cell_type": "code",
   "execution_count": 42,
   "id": "9cb9da26",
   "metadata": {},
   "outputs": [
    {
     "name": "stdout",
     "output_type": "stream",
     "text": [
      "[[0.36920962 0.30653554 0.3242548 ]]\n"
     ]
    }
   ],
   "source": [
    "# 21..\n",
    "class_names =['Bulk Carrier', 'Container Ship', 'Tanker'] # Verimiz de ki Gemi Türleri Bunlar..\n",
    "\n",
    "index = 70  # Tahmin Etmek İstediğimiz Ürün No..\n",
    "pred = model.predict(np.array([X_test[index]]))\n",
    "print(pred)"
   ]
  },
  {
   "cell_type": "code",
   "execution_count": 43,
   "id": "d6cc8bce",
   "metadata": {},
   "outputs": [
    {
     "name": "stdout",
     "output_type": "stream",
     "text": [
      "Class to predict: Bulk Carrier\n",
      "Predicted with label: Bulk Carrier\n"
     ]
    }
   ],
   "source": [
    "# Tahmin Edilen ile Gerçek Veriyi Yazdırırsak..\n",
    "print('Class to predict: ' + class_names[np.argmax(y_test[index])])\n",
    "print('Predicted with label: ' +class_names[np.argmax(pred)])\n"
   ]
  },
  {
   "cell_type": "code",
   "execution_count": null,
   "id": "d319e36e",
   "metadata": {},
   "outputs": [],
   "source": []
  }
 ],
 "metadata": {
  "kernelspec": {
   "display_name": "Python 3 (ipykernel)",
   "language": "python",
   "name": "python3"
  },
  "language_info": {
   "codemirror_mode": {
    "name": "ipython",
    "version": 3
   },
   "file_extension": ".py",
   "mimetype": "text/x-python",
   "name": "python",
   "nbconvert_exporter": "python",
   "pygments_lexer": "ipython3",
   "version": "3.8.12"
  }
 },
 "nbformat": 4,
 "nbformat_minor": 5
}
